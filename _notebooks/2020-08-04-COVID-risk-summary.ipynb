{
 "cells": [
  {
   "cell_type": "markdown",
   "metadata": {},
   "source": [
    "# Executive Summary - Assessing COVID-19 Risk in Mongolia\n",
    "> A non-technical overview of my recent risk assessment of COVID-19 in Mongolia\n",
    "\n",
    "- toc: false\n",
    "- branch: master\n",
    "- badges: true\n",
    "- comments: true\n",
    "- author: Robert Ritz\n",
    "- categories: [analysis, risk, COVID]\n",
    "- hide: true\n",
    "- search_exclude: false\n",
    "- image: https://songolt.org/images/coronavirus.jpg\n",
    "- permalink: /analysis/covid-19-risk-assessment-executive-summary/"
   ]
  },
  {
   "cell_type": "markdown",
   "metadata": {},
   "source": [
    "> Note: This is the executive summary. To view the full article, *Assessing COVID-19 Risk in Mongolia*, please click [here](https://songolt.org/analysis/risk/covid/2020/08/03/COVID-19-risk-analysis.html). "
   ]
  },
  {
   "cell_type": "markdown",
   "metadata": {},
   "source": [
    "Mongolia is a unique case with the ongoing COVID-19 pandemic. As of the writing of this article, there is no community transmission of the virus. All cases currently in the country are in quarantine. Primarily because of the success Mongolia has had in preventing community transmission, many outside the country are pointing to the Mongolian example as something to learn from. \n",
    "\n",
    "Since March 2020, every person entering the country has been required to submit to 21 days of quarantine. During this time they are tested multiple times for COVID-19. Testing in the general community is also performed if a person presents flu like symptoms at a local hospital. In addition, random sampling is performed. \n",
    "\n",
    "Even with all of these precautionary measures in place, there is still significant fear in the general population With these precautionary measures in place, the goal of this article is to determine the answer to one question:\n",
    "\n",
    "> What is the likelihood of a single undiscovered COVID-19 case in the community?\n",
    "\n",
    "Using currently known information and statistical simulation, several scenarios are evaluated:\n",
    "- Could an infectious person in quarantine be missed by testing and released into the public?\n",
    "- What if an infected person escaped from quarantine and an outbreak happened in Ulaanbaatar? Is it possible that this outbreak is missed?\n",
    "- Evaluate the possibility that COVID-19 has been in Mongolia since before March and was somehow missed.\n",
    "- An infected animal infects nomads in an aimag center or a rural area. \n",
    "\n",
    "### Can an infection in quarantine be missed?\n",
    "As of July 28, 2020, Mongolia has had a total of 289 cases of COVID-19. Using a stochastic modeling process, it was determined the probability that a single infectious person in quarantine could be missed by two tests is 2.8%. While not zero, this is a very small probability. Planning and preparation are probably the most reasonable responses, not fear. \n",
    "\n",
    "![](images/coronavirus-risk/missed-infection-simulation.png)\n",
    "\n",
    "### What if an infected person escaped from quarantine?\n",
    "Assuming an infected person escaped from quarantine, a SIR (Susceptible, Infected, Recovered) model was created to determine the potential spread of the virus in Mongolia. Assuming an R0 of 2, there would be an estimated 148 infections after 20 days. Globally an estimated 80% of cases are mild or asymptomatic, which leaves 20% (29 of the 148) with enough symptoms to present at a hospital. Each of these symptomatic cases would be tested for COVID-19. With a false negative rate of 1%, the probability that each of these cases would be missed was determined to be 1.00x10<sup>-58</sup>. This is roughly equivalent to the probability of being struck by lightning tens times in a given year. \n",
    "\n",
    "### The virus has been in the community since before the quarantine started. \n",
    "Using the model from the previous scenario, it was determined that any time period 20 days prior to today is essentially guaranteed to not have had infections. Given the highly contagious nature of COVID-19, any outbreak would be quickly discovered with the current testing regime. \n",
    "\n",
    "To evaluate if there were undiscovered infections death statistics were collected from the National Statistics Office. By comparing the historic monthly average number of deaths compared to the actual numbers for January to June of 2020, we can see if there was \"excess mortality\". However, no excess mortality was seen. \n",
    "\n",
    "![](images/coronavirus-risk/excess-mortality.png)\n",
    "\n",
    "### An infected animal infects nomads in an aimag center or a rural area. \n",
    "However unrealistic this scenario, this possibility was nevertheless published on some Mongolian websites. Two situations were modeled to determine the reality of this risk:\n",
    "- The herder decides to go to the Aimag center while he is infectious. \n",
    "- The herder doesn't go anywhere, and only sees 2 people outside his immediate family each week.\n",
    "\n",
    "In the first, the same SIR model was used, but with a lower population of 12,000. The same methodology was used to measure the probability that this outbreak could be missed. After 20 days an estimated 141 people would be infected. 28 (20% of 141 people) would be symptomatic. The probability that each of these symptomatic positive cases would have a false negative test are 1.00x10<sup>-56</sup>. This is an incredibly small probability.\n",
    "\n",
    "In the second situation another SIR model was created using an R0 of 1.2. In a rural area with such low contact between families the infection would most likely not spread past the immediate family. The SIR model estimated that only 2 people would be infected and then the infection would die out. \n",
    "\n",
    "### Conclusion\n",
    "My goal for this analysis is not to say that the risk of COVID-19 in Mongolia is over. On the contrary, there are still infections being announced each week of those in quarantine arriving from abroad. In addition, some countries still have major challenges in curbing rising infections.\n",
    "\n",
    "Instead, my goal was to assess the risk of community transmission over the past several months given what we know about quarantine and testing procedures in Mongolia. While this analysis is far from a comprehensive assessment of risk for the entire country, it does answer some of the most common questions I've heard from Mongolians worried about COVID-19. A few examples:\n",
    "\n",
    "- **All it takes is one infected person to cause a disaster.**\n",
    "  - We have found that if one infected person was actually in public, we would almost surely have found out by now. \n",
    "- **How do we know someone can't just sneak out of quarantine?**\n",
    "  - If someone did sneak out of quarantine, we would very shortly see several people with symptoms at hospitals. These cases would very quickly discovered and contact tracing would rapidly occur. *Just remember the figures, these cases would be quickly discovered.*\n",
    "- **Can you really trust that the government is doing its job?**\n",
    "  - With regards to the quarantine, I believe the evidence I have given supports that the government is in fact doing its job. For other areas, I would defer to journalists. It is in their area of responsibility to question the government and inform the Mongolian people in this respect. \n",
    "- **Better safe than sorry.**\n",
    "  - There is risk in nearly anything we do. I've shown that you are more likely to be struck by lightning several times in one year than for a cluster of COVID-19 infections to be missed. If this incredibly small risk is causing you to change your behavior, then you also may want to rethink walking outside in the rain. \n",
    "\n",
    "My hope is that this work and the work of others can start a discussion of how best to move forward given the times we are in. Staying closed off indefinitely is most surely a plan that will have very serious consequences. Yet exactly how restrictions should be relaxed and things reopened is a larger discussion for the Mongolian people and the government. "
   ]
  },
  {
   "cell_type": "markdown",
   "metadata": {},
   "source": [
    "### About the Author\n",
    "\n",
    "Robert Ritz is a data scientist and educator based in Ulaanbaatar, Mongolia. He has a passion for data science for social good. You can contact him at robertritz@outlook.com."
   ]
  }
 ],
 "metadata": {
  "kernelspec": {
   "display_name": "Python 3",
   "language": "python",
   "name": "python3"
  },
  "language_info": {
   "codemirror_mode": {
    "name": "ipython",
    "version": 3
   },
   "file_extension": ".py",
   "mimetype": "text/x-python",
   "name": "python",
   "nbconvert_exporter": "python",
   "pygments_lexer": "ipython3",
   "version": "3.8.3"
  }
 },
 "nbformat": 4,
 "nbformat_minor": 4
}
