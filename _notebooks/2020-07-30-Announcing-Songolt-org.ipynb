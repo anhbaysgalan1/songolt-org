{
 "cells": [
  {
   "cell_type": "markdown",
   "metadata": {},
   "source": [
    "# \"Announcing Songolt.org\"\n",
    "> \"Data science for Mongolia's future\"\n",
    "\n",
    "- toc: true\n",
    "- branch: master\n",
    "- badges: true\n",
    "- comments: true\n",
    "- categories: [accouncement]\n",
    "- image: /images/cover-photo-new.png\n",
    "- hide: false\n",
    "- search_exclude: false\n",
    "- author: Robert Ritz\n",
    "- sticky_rank: 1"
   ]
  },
  {
   "cell_type": "markdown",
   "metadata": {},
   "source": [
    "Hi, I'm [Robert Ritz](https://twitter.com/RobertERitz), a Data Scientist and educator based in Mongolia. Welcome to Songolt.org, a place for datasets, analyses, and tools to support Mongolia's democracy and civil society. I built Songolt because I believe that data science has huge potential to support Mongolia and its citizens. In this post I want to explain my motivation for creating Songolt, what you can expect from this site going forward, and how you can expect this site to be transparent at all levels."
   ]
  },
  {
   "cell_type": "markdown",
   "metadata": {},
   "source": [
    "## The Motivation Behind Songolt"
   ]
  },
  {
   "cell_type": "markdown",
   "metadata": {},
   "source": [
    "Situated between Russia and China, Mongolia is a shining light of democracy in a sea of authoritarianism after a peaceful democratic revolution in 1990. Rich in natural resources, it is the only country in Central Asia ranked *Free* by Freedom House. But Mongolia's democracy is still young, and its civil society is still being developed. Mongolia has no lack of challenges today and in the future. It faces economic challenges like increasing debt and fluctuating commodity prices that have caused boom and bust cycles in years past. Developmental challenges with regards to the disparity of living conditions between high-rise city dwellers, those living in poorly planned \"ger districts\", and nomadic herders. Corruption remains an ever present reality. \n",
    "\n",
    "Of course, these challenges are not unique to Mongolia. while not unique, these challenges are complex and, in todays information age, regularly involve lots of data. Civil society organizations, journalists, and concerned citizens usually do not have the technical resources or time to tackle many of these issues. With the rise of data science over the past several years, we now have tools and techniques that can help illuminate these challenges, and perhaps even propose solutions.\n",
    "\n",
    "I've been working in this area for some time in Mongolia. My first attempt was when I started [Mongolian Data Stories](https://medium.com/mongolian-data-stories), a Medium publication that uses data stories to provide insight into issues and challenges in Mongolia. I thought that by building inspiring data stories journalists and civil society would be able to follow along and produce their own unique data stories. Indeed, I found that there were many that wanted to create stories in this way, but there was often a skills gap or they simply did not have the time to devote to finding, cleaning, and analyzing the data behind these stories. \n",
    "\n",
    "Songolt aims to be a bridge between the data and those who are charged with preserving and defending Mongolia's democracy, journalists and civil society organizations. Data science is uniquely suited to this type of work. Unlike traditional areas of science, data science does not solely live in academic journals or at universities. It lives all around us and must be able to be understood by all relevant stakeholders."
   ]
  },
  {
   "cell_type": "markdown",
   "metadata": {},
   "source": [
    "## What to Expect from Songolt"
   ]
  },
  {
   "cell_type": "markdown",
   "metadata": {},
   "source": [
    "There will be three things you can expect to see on Songolt:\n",
    "- **Datasets** - Valuable data is often locked in a database, public facing government system, or scanned PDF documents. Often all that is needed is some data to get the conversation going. \n",
    "- **Analyses** - Issues like the current COVID-19 pandemic involve complex and ever changing data. The government rarely releases coherent analyses, instead relying on summary statistics with little context. Current, reliable analyses are sometimes needed to support a rational and fact based discussion. \n",
    "- **Tools** - Sometimes an issue will remain relevant over time or will be more complex than a static analysis can explain. In these situations a tool can often be the best way for journalists to discover insights in an unbiased way.\n",
    "\n",
    "By releasing difficult to obtain datasets, creating analyses of complex issues, and releasing tools that will allow self-service discovery of insights, I hope that this bridge will be enough to allow valuable discussions to occur. Initially there will be **one to two posts a month**, each being a dataset, analysis, or tool. \n",
    "\n",
    "Each post will relate to a pressing need in Mongolia today. Occasionally related posts will be spaced out and comprise a larger project over time. For example I may release a dataset and then build a tool from it later."
   ]
  },
  {
   "cell_type": "markdown",
   "metadata": {},
   "source": [
    "## Committment to Openness"
   ]
  },
  {
   "cell_type": "markdown",
   "metadata": {},
   "source": [
    "Openness will be at the heart of everything on Songolt. Every dataset, analysis, and tool will be released to the public for free. There will be no pay wall, no subscription fee, and no private content. All code will also be released to the public under a license that will allow free re-use for any purpose. This site itself is hosted in a [public repository](https://github.com/robertritz/songolt-org), where all posts can be downloaded.\n",
    "\n",
    "Also, my hope is that this openness will go both ways. If you have an idea or a challenge relevant to Songolt, please reach out to me. If you are a journalist or NGO, *definitely reach out*. I also, understand that journalists work on \"getting a scoop\", and I'm sensitive to that. I can delay publishing until after your story is published.\n",
    "\n",
    "> If any journalist, NGO, or citizen has questions about the work on this site, please no not hesitate to contact me. I can be reached at robertritz@outlook.com."
   ]
  },
  {
   "cell_type": "markdown",
   "metadata": {},
   "source": [
    "## Support Songolt.org"
   ]
  },
  {
   "cell_type": "markdown",
   "metadata": {},
   "source": [
    "All the work on Songolt is done on my own time. I'm committed to working on one to two posts a month, but with your support I could do even more. Hosting datasets and server costs for tools is also a significant cost over time. \n",
    "\n",
    "Support the creation of analysis, data, and tools for Mongolian civil society by becoming a supporter on [Patreon](https://www.patreon.com/songolt). By becoming a supporter you will allow for the work here to continue and get access to patron benefits. Patrons get mentioned on the site as a supporter and get access to a monthly Q&A where you can ask data and data science-related questions. For those that want a say in the direction of Songolt and what gets posted, All-Access patrons also get to vote on future projects. "
   ]
  }
 ],
 "metadata": {
  "kernelspec": {
   "display_name": "Python 3",
   "language": "python",
   "name": "python3"
  },
  "language_info": {
   "codemirror_mode": {
    "name": "ipython",
    "version": 3
   },
   "file_extension": ".py",
   "mimetype": "text/x-python",
   "name": "python",
   "nbconvert_exporter": "python",
   "pygments_lexer": "ipython3",
   "version": "3.8.3"
  }
 },
 "nbformat": 4,
 "nbformat_minor": 4
}
